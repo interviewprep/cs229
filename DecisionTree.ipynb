{
 "cells": [
  {
   "cell_type": "code",
   "execution_count": null,
   "metadata": {},
   "outputs": [],
   "source": [
    "import pandas as pd\n",
    "import numpy  as np"
   ]
  },
  {
   "cell_type": "code",
   "execution_count": null,
   "metadata": {},
   "outputs": [],
   "source": [
    "df = pd.read_csv(\"train_data.csv\")\n",
    "df.head(0)"
   ]
  },
  {
   "cell_type": "markdown",
   "metadata": {},
   "source": [
    "The score (accuracy, f1) etc is around 0.98+.\n",
    "One possible reason is we have  records of the same patient split into train and test set in the code below \n",
    "resulting in leakage of info.\n"
   ]
  },
  {
   "cell_type": "code",
   "execution_count": null,
   "metadata": {},
   "outputs": [],
   "source": [
    "col_names = list(range(7,81))\n",
    "col_names = [2,3] + col_names\n",
    "X = df.iloc[:, col_names]\n",
    "Y = df.iloc[:, 6]"
   ]
  },
  {
   "cell_type": "code",
   "execution_count": null,
   "metadata": {},
   "outputs": [],
   "source": [
    "#decision tree using 10 fold cross validation using ShuffleSplit\n",
    "from sklearn.model_selection import cross_val_score\n",
    "from sklearn import tree\n",
    "from sklearn.model_selection import ShuffleSplit\n",
    "\n",
    "clf = tree.DecisionTreeClassifier()\n",
    "cv = ShuffleSplit(n_splits=10, test_size=0.3, train_size=None)\n",
    "scores = cross_val_score(clf, X, Y, cv=cv, scoring='f1')\n",
    "print  (scores)\n",
    "print (scores.mean())\n",
    "\n",
    "# clf = clf.fit(X, Y)\n",
    "# clf.predict(X)"
   ]
  },
  {
   "cell_type": "markdown",
   "metadata": {},
   "source": []
  },
  {
   "cell_type": "code",
   "execution_count": null,
   "metadata": {
    "scrolled": true
   },
   "outputs": [],
   "source": [
    "#ignore this\n",
    "for train_index, test_index in cv.split(X):\n",
    "    print(\"TRAIN:\", train_index[1:10], \"TEST:\", test_index[1:10])"
   ]
  },
  {
   "cell_type": "code",
   "execution_count": null,
   "metadata": {},
   "outputs": [],
   "source": [
    "#decision tree using 10 fold cross validation using Kfold\n",
    "#score goes down if shuffle is False\n",
    "\n",
    "from sklearn.model_selection import StratifiedKFold\n",
    "kf = StratifiedKFold(n_splits=10, random_state=None,  shuffle=True)\n",
    "scores = cross_val_score(clf, X, Y, cv=kf)\n",
    "print  (scores)\n",
    "print (scores.mean())\n"
   ]
  },
  {
   "cell_type": "code",
   "execution_count": null,
   "metadata": {},
   "outputs": [],
   "source": [
    "#ignore this\n",
    "for train_index, test_index in kf.split(X):\n",
    "    print(\"TRAIN:\", train_index[1:10], \"TEST:\", test_index[1:10])"
   ]
  },
  {
   "cell_type": "code",
   "execution_count": null,
   "metadata": {},
   "outputs": [],
   "source": [
    "# should be same as Kfold with shuffle False\n",
    "scores = cross_val_score(clf, X, Y, cv=10)\n",
    "print  (scores)\n",
    "print (scores.mean())\n"
   ]
  },
  {
   "cell_type": "code",
   "execution_count": null,
   "metadata": {},
   "outputs": [],
   "source": []
  }
 ],
 "metadata": {
  "kernelspec": {
   "display_name": "Python 3",
   "language": "python",
   "name": "python3"
  },
  "language_info": {
   "codemirror_mode": {
    "name": "ipython",
    "version": 3
   },
   "file_extension": ".py",
   "mimetype": "text/x-python",
   "name": "python",
   "nbconvert_exporter": "python",
   "pygments_lexer": "ipython3",
   "version": "3.7.9"
  }
 },
 "nbformat": 4,
 "nbformat_minor": 4
}
