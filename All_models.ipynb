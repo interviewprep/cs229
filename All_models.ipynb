{
 "cells": [
  {
   "cell_type": "code",
   "execution_count": null,
   "metadata": {},
   "outputs": [],
   "source": [
    "import pandas as pd\n",
    "import numpy  as np"
   ]
  },
  {
   "cell_type": "code",
   "execution_count": null,
   "metadata": {},
   "outputs": [],
   "source": [
    "df = pd.read_csv(\"train_data_unique.csv\")\n",
    "df.head(0)"
   ]
  },
  {
   "cell_type": "markdown",
   "metadata": {},
   "source": [
    "The score (accuracy, f1) etc is around 0.98+.\n",
    "One possible reason is we have  records of the same patient split into train and test set in the code below \n",
    "resulting in leakage of info.\n"
   ]
  },
  {
   "cell_type": "code",
   "execution_count": null,
   "metadata": {
    "scrolled": true
   },
   "outputs": [],
   "source": [
    "col_names = list(range(4,78))\n",
    "col_names = [ 1, 2] + col_names\n",
    "X = df.iloc[:, col_names]\n",
    "Y = df.iloc[:, 3]\n",
    "X.head()"
   ]
  },
  {
   "cell_type": "code",
   "execution_count": null,
   "metadata": {},
   "outputs": [],
   "source": [
    "\n",
    "def decision_tree(score_type):\n",
    "    from sklearn.model_selection import cross_val_score\n",
    "    from sklearn import tree\n",
    "    from sklearn.model_selection import ShuffleSplit\n",
    "\n",
    "    clf = tree.DecisionTreeClassifier()\n",
    "    cv = ShuffleSplit(n_splits=10, test_size=0.2, train_size=None)\n",
    "    scores = cross_val_score(clf, X, Y, cv=cv, scoring=score_type)\n",
    "    #print  (scores)\n",
    "    #print (scores.mean())\n",
    "    return scores.mean()\n",
    "\n",
    "# clf = clf.fit(X, Y)\n",
    "# clf.predict(X)"
   ]
  },
  {
   "cell_type": "code",
   "execution_count": null,
   "metadata": {},
   "outputs": [],
   "source": [
    "#Random forest\n",
    "def random_forest(score_type):\n",
    "    from sklearn.ensemble import RandomForestClassifier\n",
    "    rf = RandomForestClassifier(max_depth=2, random_state=0, max_features=\"sqrt\")\n",
    "    scores = cross_val_score(rf, X, Y, cv=cv, scoring=score_type)\n",
    "    #print  (scores)\n",
    "    #print (scores.mean())\n",
    "    return scores.mean()\n"
   ]
  },
  {
   "cell_type": "code",
   "execution_count": null,
   "metadata": {},
   "outputs": [],
   "source": [
    "def bagging_class(score_type):\n",
    "    from sklearn.ensemble import BaggingClassifier\n",
    "    bc = BaggingClassifier(max_samples=1.0)\n",
    "    scores = cross_val_score(bc, X, Y, cv=cv, scoring=score_type)\n",
    "    #print  (scores)\n",
    "    #print (scores.mean())\n",
    "    return scores.mean()"
   ]
  },
  {
   "cell_type": "code",
   "execution_count": null,
   "metadata": {},
   "outputs": [],
   "source": [
    "def logistic_reg(score_type):\n",
    "    from sklearn.linear_model import LogisticRegression\n",
    "    clf = LogisticRegression(random_state=0, penalty = 'elasticnet', C=1.0)\n",
    "    scores = cross_val_score(bc, X, Y, cv=cv, scoring=score_type)\n",
    "    #print (scores)\n",
    "    return scores.mean()\n"
   ]
  },
  {
   "cell_type": "code",
   "execution_count": null,
   "metadata": {},
   "outputs": [],
   "source": [
    "def naive_bayes(score_type):\n",
    "    from sklearn.naive_bayes import GaussianNB\n",
    "    gnb = GaussianNB()\n",
    "    scores = cross_val_score(gnb, X, Y, cv=cv, scoring=score_type)\n",
    "    #print (scores)\n",
    "    return scores.mean()\n",
    "    "
   ]
  },
  {
   "cell_type": "code",
   "execution_count": null,
   "metadata": {},
   "outputs": [],
   "source": [
    "#All fields!!\n",
    "\n",
    "#calculate average score for 10 calls (each call is again a 10 fold CV)\n",
    "score = 0\n",
    "for i in range(0,10):\n",
    "    score = score + naive_bayes('accuracy')\n",
    "print (\"final score\")\n",
    "print (score/10)"
   ]
  },
  {
   "cell_type": "markdown",
   "metadata": {},
   "source": [
    "X.head()"
   ]
  },
  {
   "cell_type": "code",
   "execution_count": null,
   "metadata": {
    "scrolled": true
   },
   "outputs": [],
   "source": []
  },
  {
   "cell_type": "code",
   "execution_count": null,
   "metadata": {},
   "outputs": [],
   "source": [
    "# only age and gender\n",
    "X = df.iloc[:, [1,2]]\n",
    "score = 0\n",
    "for i in range(0,10):\n",
    "    score = score + random_forest('accuracy')\n",
    "print (\"final score\")\n",
    "print (score/10)\n"
   ]
  },
  {
   "cell_type": "code",
   "execution_count": null,
   "metadata": {},
   "outputs": [],
   "source": [
    "#Only top 3 important fields according to paper\n",
    "X = df.loc[:, ['lactate_dehydrogenase', 'hypersensitive_c_reactive_protein', 'lymphocyte_count']]\n",
    "score = 0\n",
    "for i in range(0,10):\n",
    "    score = score + random_forest('accuracy')\n",
    "print (\"final score\")\n",
    "print (score/10)\n"
   ]
  },
  {
   "cell_type": "code",
   "execution_count": null,
   "metadata": {},
   "outputs": [],
   "source": [
    "#All fields excepg top 3 according to paper\n",
    "col_names = list(range(4,78))\n",
    "col_names = [1, 2] + col_names\n",
    "X = df.iloc[:, col_names]\n",
    "X = X.drop(['lactate_dehydrogenase', 'hypersensitive_c_reactive_protein', 'lymphocyte_count'], axis=1)\n",
    "score=0\n",
    "for i in range(0,10):\n",
    "    score = score + random_forest('accuracy')\n",
    "print (\"final score\")\n",
    "print (score/10)\n"
   ]
  },
  {
   "cell_type": "code",
   "execution_count": null,
   "metadata": {},
   "outputs": [],
   "source": [
    "#only patient id\n",
    "\n",
    "X = df.iloc[:, [0]]\n",
    "random_forest('accuracy')"
   ]
  },
  {
   "cell_type": "code",
   "execution_count": null,
   "metadata": {},
   "outputs": [],
   "source": [
    "#Experimental -- ignore anything below\n",
    "\n",
    "import matplotlib.pyplot as plt\n",
    "from sklearn.datasets import load_iris\n",
    "from sklearn.datasets import load_breast_cancer\n",
    "from sklearn.tree import DecisionTreeClassifier\n",
    "from sklearn.ensemble import RandomForestClassifier\n",
    "from sklearn.model_selection import train_test_split\n",
    "import pandas as pd\n",
    "import numpy as np\n",
    "from sklearn import tree"
   ]
  },
  {
   "cell_type": "code",
   "execution_count": null,
   "metadata": {},
   "outputs": [],
   "source": [
    "X = df.iloc[:, [0]]\n",
    "clf = DecisionTreeClassifier(random_state = 0)\n",
    "clf.fit(X, Y)\n",
    "tree.plot_tree(clf);\n"
   ]
  },
  {
   "cell_type": "code",
   "execution_count": null,
   "metadata": {},
   "outputs": [],
   "source": []
  },
  {
   "cell_type": "code",
   "execution_count": null,
   "metadata": {},
   "outputs": [],
   "source": []
  }
 ],
 "metadata": {
  "kernelspec": {
   "display_name": "Python 3",
   "language": "python",
   "name": "python3"
  },
  "language_info": {
   "codemirror_mode": {
    "name": "ipython",
    "version": 3
   },
   "file_extension": ".py",
   "mimetype": "text/x-python",
   "name": "python",
   "nbconvert_exporter": "python",
   "pygments_lexer": "ipython3",
   "version": "3.7.9"
  }
 },
 "nbformat": 4,
 "nbformat_minor": 4
}
